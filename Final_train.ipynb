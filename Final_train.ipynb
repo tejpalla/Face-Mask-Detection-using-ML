{
 "cells": [
  {
   "cell_type": "code",
   "execution_count": 26,
   "id": "2488fc92",
   "metadata": {},
   "outputs": [],
   "source": [
    "#importing necessary libraries \n",
    "import keras.optimizers\n",
    "from keras.preprocessing.image import ImageDataGenerator\n",
    "from keras.models import Sequential\n",
    "from keras.models import Model\n",
    "from keras.models import load_model\n",
    "from keras.layers import Conv2D, Input, ZeroPadding2D \n",
    "from keras.layers import BatchNormalization, Activation\n",
    "from keras.layers import MaxPooling2D, Flatten, Dense,Dropout\n",
    "from keras.callbacks import TensorBoard\n",
    "from sklearn.utils import shuffle\n",
    "import matplotlib.pyplot as plt\n",
    "import cv2\n",
    "import imutils"
   ]
  },
  {
   "cell_type": "code",
   "execution_count": 3,
   "id": "2d6a06ee",
   "metadata": {},
   "outputs": [
    {
     "name": "stdout",
     "output_type": "stream",
     "text": [
      "Metal device set to: Apple M1\n"
     ]
    },
    {
     "name": "stderr",
     "output_type": "stream",
     "text": [
      "2022-03-19 10:14:01.712958: I tensorflow/core/common_runtime/pluggable_device/pluggable_device_factory.cc:305] Could not identify NUMA node of platform GPU ID 0, defaulting to 0. Your kernel may not have been built with NUMA support.\n",
      "2022-03-19 10:14:01.713187: I tensorflow/core/common_runtime/pluggable_device/pluggable_device_factory.cc:271] Created TensorFlow device (/job:localhost/replica:0/task:0/device:GPU:0 with 0 MB memory) -> physical PluggableDevice (device: 0, name: METAL, pci bus id: <undefined>)\n"
     ]
    }
   ],
   "source": [
    "# CNN model \n",
    "model = Sequential([\n",
    "    Conv2D(100, (3,3), activation='relu', input_shape=(150, 150, 3)),\n",
    "    MaxPooling2D(2,2),\n",
    "    \n",
    "    Conv2D(100, (3,3), activation='relu'), \n",
    "    MaxPooling2D(2,2),\n",
    "    \n",
    "    Flatten(),\n",
    "    Dropout(0.5),\n",
    "    Dense(50, activation='relu'),\n",
    "    Dense(2, activation='softmax')\n",
    "])\n",
    "\n",
    "model.compile(optimizer='adam', loss='binary_crossentropy', metrics=['acc'])"
   ]
  },
  {
   "cell_type": "code",
   "execution_count": 4,
   "id": "de58e43f",
   "metadata": {},
   "outputs": [
    {
     "name": "stdout",
     "output_type": "stream",
     "text": [
      "Found 1314 images belonging to 2 classes.\n",
      "Found 194 images belonging to 2 classes.\n"
     ]
    }
   ],
   "source": [
    "#Training and validation dataset generation\n",
    "training_DIR = \"./face_mask_dataset/train\"\n",
    "Validation_DIR = \"./face_mask_dataset/validation\"\n",
    "train_validation_datagen = ImageDataGenerator(rescale=1.0/255,\n",
    "                                   rotation_range=40,\n",
    "                                   width_shift_range=0.2,\n",
    "                                   height_shift_range=0.2,\n",
    "                                   shear_range=0.2,\n",
    "                                   zoom_range=0.2,\n",
    "                                   horizontal_flip=True,\n",
    "                                   fill_mode='nearest',\n",
    "                                  )\n",
    "\n",
    "train_generator = train_validation_datagen.flow_from_directory(training_DIR, \n",
    "                                                    batch_size=10, \n",
    "                                                    target_size=(150, 150),\n",
    "                                                    )\n",
    "\n",
    "validation_generator = train_validation_datagen.flow_from_directory(Validation_DIR, \n",
    "                                                         batch_size=10, \n",
    "                                                         target_size=(150, 150),\n",
    "                                                         )"
   ]
  },
  {
   "cell_type": "code",
   "execution_count": 14,
   "id": "ca499929",
   "metadata": {},
   "outputs": [
    {
     "name": "stdout",
     "output_type": "stream",
     "text": [
      "Found 188 images belonging to 2 classes.\n"
     ]
    }
   ],
   "source": [
    "#test dataset geneeration\n",
    "test_DIR =\"./face_mask_dataset/test\"\n",
    "test_datagen = ImageDataGenerator(rescale=1.0/255,\n",
    "                                  shear_range=0.2,\n",
    "                                  zoom_range=0.2,\n",
    "                                  horizontal_flip=True)\n",
    "\n",
    "test_generator = test_datagen.flow_from_directory(test_DIR, \n",
    "                                                       batch_size=10,\n",
    "                                                       shuffle=False,\n",
    "                                                       target_size=(150,150))\n"
   ]
  },
  {
   "cell_type": "code",
   "execution_count": 5,
   "id": "b9e53c37",
   "metadata": {},
   "outputs": [
    {
     "name": "stdout",
     "output_type": "stream",
     "text": [
      "Epoch 1/10\n"
     ]
    },
    {
     "name": "stderr",
     "output_type": "stream",
     "text": [
      "2022-03-18 20:25:06.974637: I tensorflow/core/grappler/optimizers/custom_graph_optimizer_registry.cc:113] Plugin optimizer for device_type GPU is enabled.\n"
     ]
    },
    {
     "name": "stdout",
     "output_type": "stream",
     "text": [
      "132/132 [==============================] - ETA: 0s - loss: 0.6482 - acc: 0.6256"
     ]
    },
    {
     "name": "stderr",
     "output_type": "stream",
     "text": [
      "2022-03-18 20:25:21.451660: I tensorflow/core/grappler/optimizers/custom_graph_optimizer_registry.cc:113] Plugin optimizer for device_type GPU is enabled.\n"
     ]
    },
    {
     "name": "stdout",
     "output_type": "stream",
     "text": [
      "132/132 [==============================] - 15s 114ms/step - loss: 0.6482 - acc: 0.6256 - val_loss: 0.5184 - val_acc: 0.7784\n",
      "Epoch 2/10\n",
      "132/132 [==============================] - 15s 113ms/step - loss: 0.4541 - acc: 0.7945 - val_loss: 0.3809 - val_acc: 0.8196\n",
      "Epoch 3/10\n",
      "132/132 [==============================] - 15s 115ms/step - loss: 0.3172 - acc: 0.8775 - val_loss: 0.3118 - val_acc: 0.8969\n",
      "Epoch 4/10\n",
      "132/132 [==============================] - 15s 114ms/step - loss: 0.2595 - acc: 0.9003 - val_loss: 0.2210 - val_acc: 0.9330\n",
      "Epoch 5/10\n",
      "132/132 [==============================] - 15s 114ms/step - loss: 0.2428 - acc: 0.9041 - val_loss: 0.2608 - val_acc: 0.9278\n",
      "Epoch 6/10\n",
      "132/132 [==============================] - 15s 114ms/step - loss: 0.2259 - acc: 0.9056 - val_loss: 0.1534 - val_acc: 0.9485\n",
      "Epoch 7/10\n",
      "132/132 [==============================] - 15s 114ms/step - loss: 0.2270 - acc: 0.9148 - val_loss: 0.1086 - val_acc: 0.9639\n",
      "Epoch 8/10\n",
      "132/132 [==============================] - 15s 114ms/step - loss: 0.2211 - acc: 0.9186 - val_loss: 0.1636 - val_acc: 0.9278\n",
      "Epoch 9/10\n",
      "132/132 [==============================] - 15s 114ms/step - loss: 0.1985 - acc: 0.9247 - val_loss: 0.1576 - val_acc: 0.9433\n",
      "Epoch 10/10\n",
      "132/132 [==============================] - 15s 114ms/step - loss: 0.1839 - acc: 0.9338 - val_loss: 0.1355 - val_acc: 0.9639\n"
     ]
    }
   ],
   "source": [
    "#training the model\n",
    "history = model.fit(train_generator,\n",
    "                              epochs=10,\n",
    "                              validation_data=validation_generator,\n",
    "                              )"
   ]
  },
  {
   "cell_type": "code",
   "execution_count": 9,
   "id": "e49f5662",
   "metadata": {},
   "outputs": [
    {
     "name": "stderr",
     "output_type": "stream",
     "text": [
      "2022-03-18 20:30:22.676759: W tensorflow/python/util/util.cc:368] Sets are not currently considered sequences, but this may change in the future, so consider avoiding using them.\n"
     ]
    },
    {
     "name": "stdout",
     "output_type": "stream",
     "text": [
      "INFO:tensorflow:Assets written to: saved_model/assets\n"
     ]
    }
   ],
   "source": [
    "#saving the model in current directory\n",
    "model.save(\"saved_model\")"
   ]
  },
  {
   "cell_type": "code",
   "execution_count": 24,
   "id": "8474faa5",
   "metadata": {},
   "outputs": [
    {
     "name": "stdout",
     "output_type": "stream",
     "text": [
      "19/19 [==============================] - 1s 55ms/step - loss: 0.2503 - acc: 0.8989\n"
     ]
    },
    {
     "data": {
      "text/plain": [
       "[0.25033143162727356, 0.8989362120628357]"
      ]
     },
     "execution_count": 24,
     "metadata": {},
     "output_type": "execute_result"
    }
   ],
   "source": [
    "## Printing the model accuracy from the test_generator\n",
    "test_generator.reset() # resetting generator\n",
    "model.evaluate(test_generator,batch_size=10, verbose=1)"
   ]
  },
  {
   "cell_type": "code",
   "execution_count": 21,
   "id": "78f0f0d1",
   "metadata": {},
   "outputs": [
    {
     "data": {
      "image/png": "[encoded data removed]",
      "text/plain": [
       "<Figure size 432x288 with 1 Axes>"
      ]
     },
     "metadata": {
      "needs_background": "light"
     },
     "output_type": "display_data"
    },
    {
     "data": {
      "image/png": "[encoded data removed]",
      "text/plain": [
       "<Figure size 432x288 with 1 Axes>"
      ]
     },
     "metadata": {
      "needs_background": "light"
     },
     "output_type": "display_data"
    }
   ],
   "source": [
    "#plotting training and validation loss\n",
    "train_loss = history.history['loss']\n",
    "validation_loss = history.history['val_loss']\n",
    "Epochs = range(1, len(loss) + 1)\n",
    "plt.plot(Epochs, train_loss, color='red', label='Training loss')\n",
    "plt.plot(epochs, validation_loss, color='blue', label='Validation loss')\n",
    "plt.title('Training and Validation loss')\n",
    "plt.xlabel('Epochs')\n",
    "plt.ylabel('Loss')\n",
    "plt.legend()\n",
    "plt.show()\n",
    "\n",
    "#plotting training and validation accuracy\n",
    "train_acc = history.history['acc']\n",
    "validation_acc = history.history['val_acc']\n",
    "plt.plot(epochs, train_acc, color='red', label='Training acc')\n",
    "plt.plot(epochs, validation_acc, color='blue', label='Validation acc')\n",
    "plt.title('Training and Validation accuracy')\n",
    "plt.xlabel('Epochs')\n",
    "plt.ylabel('Loss')\n",
    "plt.legend()\n",
    "plt.show()"
   ]
  }
 ],
 "metadata": {
  "kernelspec": {
   "display_name": "Python 3 (ipykernel)",
   "language": "python",
   "name": "python3"
  },
  "language_info": {
   "codemirror_mode": {
    "name": "ipython",
    "version": 3
   },
   "file_extension": ".py",
   "mimetype": "text/x-python",
   "name": "python",
   "nbconvert_exporter": "python",
   "pygments_lexer": "ipython3",
   "version": "3.9.7"
  }
 },
 "nbformat": 4,
 "nbformat_minor": 5
}
